{
 "cells": [
  {
   "cell_type": "code",
   "execution_count": 76,
   "metadata": {},
   "outputs": [
    {
     "name": "stdout",
     "output_type": "stream",
     "text": [
      "The autoreload extension is already loaded. To reload it, use:\n",
      "  %reload_ext autoreload\n"
     ]
    }
   ],
   "source": [
    "import os\n",
    "import sys\n",
    "sys.path.append(\"..\")\n",
    "\n",
    "from utils.specs import CheckpointSpecs\n",
    "import matplotlib\n",
    "import matplotlib.pyplot as plt\n",
    "import numpy as np\n",
    "import utils.config_manager as cm\n",
    "%matplotlib inline\n",
    "%load_ext autoreload\n",
    "%autoreload 2"
   ]
  },
  {
   "cell_type": "code",
   "execution_count": 2,
   "metadata": {},
   "outputs": [
    {
     "name": "stdout",
     "output_type": "stream",
     "text": [
      "['..\\\\checkpoints\\\\HF\\\\checkpoint_epoch_0_batch_186.pth', '..\\\\checkpoints\\\\HF\\\\checkpoint_epoch_0_batch_373.pth', '..\\\\checkpoints\\\\HF\\\\checkpoint_epoch_0_batch_560.pth', '..\\\\checkpoints\\\\HF\\\\checkpoint_epoch_0_batch_747.pth', '..\\\\checkpoints\\\\HF\\\\checkpoint_epoch_0_batch_934.pth', '..\\\\checkpoints\\\\HF\\\\checkpoint_epoch_0_batch_1121.pth', '..\\\\checkpoints\\\\HF\\\\checkpoint_epoch_0_batch_1308.pth', '..\\\\checkpoints\\\\HF\\\\checkpoint_epoch_0_batch_1495.pth', '..\\\\checkpoints\\\\HF\\\\checkpoint_epoch_0_batch_1682.pth', '..\\\\checkpoints\\\\HF\\\\checkpoint_epoch_0_batch_1869.pth']\n"
     ]
    }
   ],
   "source": [
    "def find_all_pth_files(dir):\n",
    "    '''\n",
    "    Find names of all files in directory that end with .pth\n",
    "    '''\n",
    "    files = []\n",
    "    for file in os.listdir(dir):\n",
    "        if file.endswith(\".pth\"):\n",
    "            files.append(os.path.join(dir, file))\n",
    "    return files\n",
    "\n",
    "\n",
    "def sort_file_paths(files):\n",
    "    '''\n",
    "    Sort files names in ascending order\n",
    "    '''\n",
    "    return sorted(files, key=lambda x: int(x.split('_')[-1].split('.')[0]))\n",
    "\n",
    "\n",
    "file_names = find_all_pth_files('..\\\\checkpoints\\\\HF\\\\')\n",
    "file_names = sort_file_paths(file_names)\n",
    "print(file_names)"
   ]
  },
  {
   "cell_type": "code",
   "execution_count": 27,
   "metadata": {},
   "outputs": [],
   "source": [
    "checkpoint_specs = CheckpointSpecs(file_names[0])"
   ]
  },
  {
   "cell_type": "code",
   "execution_count": 7,
   "metadata": {},
   "outputs": [
    {
     "name": "stderr",
     "output_type": "stream",
     "text": [
      "d:\\Documents\\Programming\\Bsc Thesis\\Second-order-optimization\\test\\..\\utils\\specs.py:134: UserWarning: Matplotlib is currently using agg, which is a non-GUI backend, so cannot show the figure.\n",
      "  plt.show()\n",
      "d:\\Documents\\Programming\\Bsc Thesis\\Second-order-optimization\\test\\..\\utils\\specs.py:140: UserWarning: Matplotlib is currently using agg, which is a non-GUI backend, so cannot show the figure.\n",
      "  plt.show()\n",
      "d:\\Documents\\Programming\\Bsc Thesis\\Second-order-optimization\\test\\..\\utils\\specs.py:172: UserWarning: Matplotlib is currently using agg, which is a non-GUI backend, so cannot show the figure.\n",
      "  plt.show()\n"
     ]
    }
   ],
   "source": [
    "%matplotlib inline\n",
    "for f in file_names:\n",
    "    checkpoint_specs = CheckpointSpecs(f)\n",
    "    checkpoint_specs.top_eig_perb_plot()\n",
    "    checkpoint_specs.top_2_eig_perb_plot()\n",
    "    checkpoint_specs.grad_perb_plot()\n",
    "    checkpoint_specs.hessian_esd_plot(save=True)\n"
   ]
  },
  {
   "cell_type": "code",
   "execution_count": null,
   "metadata": {},
   "outputs": [],
   "source": [
    "%matplotlib inline\n",
    "for f in file_names:\n",
    "    checkpoint_specs = CheckpointSpecs(f)\n",
    "\n",
    "    checkpoint_specs.params_hist()\n",
    "    checkpoint_specs.params_log_density()\n",
    "    checkpoint_specs.full_params_hist()\n",
    "    checkpoint_specs.full_params_log_density()\n",
    "\n",
    "    checkpoint_specs.grads_hist()\n",
    "    checkpoint_specs.grads_log_density()\n",
    "    checkpoint_specs.full_grads_hist()\n",
    "    checkpoint_specs.full_grads_log_density()"
   ]
  }
 ],
 "metadata": {
  "kernelspec": {
   "display_name": ".venv",
   "language": "python",
   "name": "python3"
  },
  "language_info": {
   "codemirror_mode": {
    "name": "ipython",
    "version": 3
   },
   "file_extension": ".py",
   "mimetype": "text/x-python",
   "name": "python",
   "nbconvert_exporter": "python",
   "pygments_lexer": "ipython3",
   "version": "3.11.3"
  },
  "orig_nbformat": 4
 },
 "nbformat": 4,
 "nbformat_minor": 2
}
