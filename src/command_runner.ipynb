{
 "cells": [
  {
   "cell_type": "code",
   "execution_count": 1,
   "metadata": {},
   "outputs": [
    {
     "name": "stderr",
     "output_type": "stream",
     "text": [
      "/Users/nprianikov/Second-order-optimization/.conda/lib/python3.10/site-packages/tqdm/auto.py:21: TqdmWarning: IProgress not found. Please update jupyter and ipywidgets. See https://ipywidgets.readthedocs.io/en/stable/user_install.html\n",
      "  from .autonotebook import tqdm as notebook_tqdm\n"
     ]
    }
   ],
   "source": [
    "import sys\n",
    "sys.path.append(\"..\")\n",
    "\n",
    "import torch\n",
    "from torch import nn\n",
    "import torchmetrics\n",
    "import numpy as np\n",
    "import src.engine as engine\n",
    "import src.experiments_maker as experiments_maker\n",
    "import wandb\n",
    "import time\n",
    "import utils.config_manager as cm\n"
   ]
  },
  {
   "cell_type": "code",
   "execution_count": null,
   "metadata": {},
   "outputs": [],
   "source": [
    "config = cm.create_config(epochs=1, lr=3e-3, batch_size=128, dataset='cifar10', optimizer='K_BFGS(L)', model='SmallCNN', wandb_log_batch=1)\n",
    "with wandb.init(project=\"baselines_cnn\", config=config, mode=cm.wandb_modes[0]):\n",
    "    model, train_dataloader, test_dataloader, optimizer, criterion = experiments_maker.make(config, cm.device)\n",
    "    engine.train(model, train_dataloader, test_dataloader, cm.loss_fn, optimizer, criterion, cm.device, config)"
   ]
  },
  {
   "cell_type": "code",
   "execution_count": 2,
   "metadata": {},
   "outputs": [],
   "source": [
    "config = cm.create_config(epochs=1, batch_size=128, optimizer='SGD', model='DepthCNN', wandb_log_batch=32)\n",
    "model, train_dataloader, test_dataloader, optimizer, criterion = experiments_maker.make(config, cm.device)"
   ]
  }
 ],
 "metadata": {
  "kernelspec": {
   "display_name": ".venv",
   "language": "python",
   "name": "python3"
  },
  "language_info": {
   "codemirror_mode": {
    "name": "ipython",
    "version": 3
   },
   "file_extension": ".py",
   "mimetype": "text/x-python",
   "name": "python",
   "nbconvert_exporter": "python",
   "pygments_lexer": "ipython3",
   "version": "3.10.11"
  },
  "orig_nbformat": 4
 },
 "nbformat": 4,
 "nbformat_minor": 2
}
