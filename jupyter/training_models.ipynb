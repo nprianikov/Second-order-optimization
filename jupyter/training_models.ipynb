{
 "cells": [
  {
   "cell_type": "code",
   "execution_count": 3,
   "metadata": {
    "collapsed": true,
    "pycharm": {
     "name": "#%%\n"
    }
   },
   "outputs": [],
   "source": [
    "%load_ext autoreload\n",
    "%autoreload 2\n",
    "import torch\n",
    "from torch import nn\n",
    "import torchmetrics\n",
    "import numpy as np"
   ]
  },
  {
   "cell_type": "code",
   "execution_count": 6,
   "metadata": {},
   "outputs": [],
   "source": [
    "import wandb\n",
    "import os\n",
    "from dotenv import load_dotenv\n",
    "\n",
    "load_dotenv()\n",
    "!wandb login {os.getenv(\"WANDB_API_KEY\")}"
   ]
  },
  {
   "cell_type": "code",
   "execution_count": 4,
   "metadata": {
    "collapsed": false,
    "pycharm": {
     "name": "#%%\n"
    }
   },
   "outputs": [],
   "source": [
    "np.random.seed(42)\n",
    "torch.manual_seed(42)\n",
    "torch.cuda.manual_seed(42)"
   ]
  },
  {
   "cell_type": "code",
   "execution_count": 16,
   "metadata": {
    "collapsed": false,
    "pycharm": {
     "is_executing": true,
     "name": "#%%\n"
    }
   },
   "outputs": [
    {
     "data": {
      "application/vnd.jupyter.widget-view+json": {
       "model_id": "cce95da9d60c40fc9ad308873923a58c",
       "version_major": 2,
       "version_minor": 0
      },
      "text/plain": [
       "  0%|          | 0/50 [00:00<?, ?it/s]"
      ]
     },
     "metadata": {},
     "output_type": "display_data"
    },
    {
     "ename": "KeyboardInterrupt",
     "evalue": "",
     "output_type": "error",
     "traceback": [
      "\u001b[1;31m---------------------------------------------------------------------------\u001b[0m",
      "\u001b[1;31mKeyboardInterrupt\u001b[0m                         Traceback (most recent call last)",
      "Cell \u001b[1;32mIn[16], line 47\u001b[0m\n\u001b[0;32m     45\u001b[0m     \u001b[39m# make the model, data and optimization\u001b[39;00m\n\u001b[0;32m     46\u001b[0m     model, train_dataloader, test_dataloader, optimizer \u001b[39m=\u001b[39m experiments_maker\u001b[39m.\u001b[39mmake(config, device)\n\u001b[1;32m---> 47\u001b[0m     engine\u001b[39m.\u001b[39;49mtrain(model, train_dataloader, test_dataloader, loss_fn, optimizer, accuracy_fn, device, config)\n\u001b[0;32m     49\u001b[0m wandb\u001b[39m.\u001b[39mfinish()\n",
      "File \u001b[1;32md:\\Documents\\Programming\\Bsc Thesis\\Second-order-optimization\\jupyter\\../src\\engine.py:90\u001b[0m, in \u001b[0;36mtrain\u001b[1;34m(model, train_data_loader, test_data_loader, loss_fn, optimizer, accuracy_fn, device, config)\u001b[0m\n\u001b[0;32m     87\u001b[0m \u001b[39mfor\u001b[39;00m epoch \u001b[39min\u001b[39;00m tqdm(\u001b[39mrange\u001b[39m(config[\u001b[39m\"\u001b[39m\u001b[39mepochs\u001b[39m\u001b[39m\"\u001b[39m])):\n\u001b[0;32m     88\u001b[0m     \u001b[39m# train loop\u001b[39;00m\n\u001b[0;32m     89\u001b[0m     train_time_start \u001b[39m=\u001b[39m timer()\n\u001b[1;32m---> 90\u001b[0m     train_loss, train_acc \u001b[39m=\u001b[39m train_step(data_loader\u001b[39m=\u001b[39;49mtrain_data_loader,\n\u001b[0;32m     91\u001b[0m                                        model\u001b[39m=\u001b[39;49mmodel,\n\u001b[0;32m     92\u001b[0m                                        loss_fn\u001b[39m=\u001b[39;49mloss_fn,\n\u001b[0;32m     93\u001b[0m                                        optimizer\u001b[39m=\u001b[39;49moptimizer,\n\u001b[0;32m     94\u001b[0m                                        accuracy_fn\u001b[39m=\u001b[39;49maccuracy_fn,\n\u001b[0;32m     95\u001b[0m                                        device\u001b[39m=\u001b[39;49mdevice)\n\u001b[0;32m     96\u001b[0m     train_time_end \u001b[39m=\u001b[39m timer()\n\u001b[0;32m     97\u001b[0m     total_train_time_model \u001b[39m=\u001b[39m train_time_end \u001b[39m-\u001b[39m train_time_start\n",
      "File \u001b[1;32md:\\Documents\\Programming\\Bsc Thesis\\Second-order-optimization\\jupyter\\../src\\engine.py:18\u001b[0m, in \u001b[0;36mtrain_step\u001b[1;34m(model, data_loader, loss_fn, optimizer, accuracy_fn, device)\u001b[0m\n\u001b[0;32m     11\u001b[0m \u001b[39mdef\u001b[39;00m \u001b[39mtrain_step\u001b[39m(model: torch\u001b[39m.\u001b[39mnn\u001b[39m.\u001b[39mModule,\n\u001b[0;32m     12\u001b[0m                data_loader: torch\u001b[39m.\u001b[39mutils\u001b[39m.\u001b[39mdata\u001b[39m.\u001b[39mDataLoader, \u001b[39m# type: ignore\u001b[39;00m\n\u001b[0;32m     13\u001b[0m                loss_fn: torch\u001b[39m.\u001b[39mnn\u001b[39m.\u001b[39mModule,\n\u001b[0;32m     14\u001b[0m                optimizer: torch\u001b[39m.\u001b[39moptim\u001b[39m.\u001b[39mOptimizer,\n\u001b[0;32m     15\u001b[0m                accuracy_fn: torchmetrics\u001b[39m.\u001b[39mMetric,\n\u001b[0;32m     16\u001b[0m                device: torch\u001b[39m.\u001b[39mdevice) \u001b[39m-\u001b[39m\u001b[39m>\u001b[39m Tuple[\u001b[39mfloat\u001b[39m, \u001b[39mfloat\u001b[39m]:\n\u001b[0;32m     17\u001b[0m     train_loss, train_acc \u001b[39m=\u001b[39m \u001b[39m0\u001b[39m, \u001b[39m0\u001b[39m\n\u001b[1;32m---> 18\u001b[0m     \u001b[39mfor\u001b[39;00m batch, (X, y) \u001b[39min\u001b[39;00m \u001b[39menumerate\u001b[39m(data_loader):\n\u001b[0;32m     19\u001b[0m         \u001b[39m# Send data to GPU\u001b[39;00m\n\u001b[0;32m     20\u001b[0m         X, y \u001b[39m=\u001b[39m X\u001b[39m.\u001b[39mto(device), y\u001b[39m.\u001b[39mto(device)\n\u001b[0;32m     21\u001b[0m         \u001b[39m# Optimizer step\u001b[39;00m\n",
      "File \u001b[1;32md:\\Documents\\Programming\\Bsc Thesis\\Second-order-optimization\\venv\\Lib\\site-packages\\torch\\utils\\data\\dataloader.py:634\u001b[0m, in \u001b[0;36m_BaseDataLoaderIter.__next__\u001b[1;34m(self)\u001b[0m\n\u001b[0;32m    631\u001b[0m \u001b[39mif\u001b[39;00m \u001b[39mself\u001b[39m\u001b[39m.\u001b[39m_sampler_iter \u001b[39mis\u001b[39;00m \u001b[39mNone\u001b[39;00m:\n\u001b[0;32m    632\u001b[0m     \u001b[39m# TODO(https://github.com/pytorch/pytorch/issues/76750)\u001b[39;00m\n\u001b[0;32m    633\u001b[0m     \u001b[39mself\u001b[39m\u001b[39m.\u001b[39m_reset()  \u001b[39m# type: ignore[call-arg]\u001b[39;00m\n\u001b[1;32m--> 634\u001b[0m data \u001b[39m=\u001b[39m \u001b[39mself\u001b[39;49m\u001b[39m.\u001b[39;49m_next_data()\n\u001b[0;32m    635\u001b[0m \u001b[39mself\u001b[39m\u001b[39m.\u001b[39m_num_yielded \u001b[39m+\u001b[39m\u001b[39m=\u001b[39m \u001b[39m1\u001b[39m\n\u001b[0;32m    636\u001b[0m \u001b[39mif\u001b[39;00m \u001b[39mself\u001b[39m\u001b[39m.\u001b[39m_dataset_kind \u001b[39m==\u001b[39m _DatasetKind\u001b[39m.\u001b[39mIterable \u001b[39mand\u001b[39;00m \\\n\u001b[0;32m    637\u001b[0m         \u001b[39mself\u001b[39m\u001b[39m.\u001b[39m_IterableDataset_len_called \u001b[39mis\u001b[39;00m \u001b[39mnot\u001b[39;00m \u001b[39mNone\u001b[39;00m \u001b[39mand\u001b[39;00m \\\n\u001b[0;32m    638\u001b[0m         \u001b[39mself\u001b[39m\u001b[39m.\u001b[39m_num_yielded \u001b[39m>\u001b[39m \u001b[39mself\u001b[39m\u001b[39m.\u001b[39m_IterableDataset_len_called:\n",
      "File \u001b[1;32md:\\Documents\\Programming\\Bsc Thesis\\Second-order-optimization\\venv\\Lib\\site-packages\\torch\\utils\\data\\dataloader.py:678\u001b[0m, in \u001b[0;36m_SingleProcessDataLoaderIter._next_data\u001b[1;34m(self)\u001b[0m\n\u001b[0;32m    676\u001b[0m \u001b[39mdef\u001b[39;00m \u001b[39m_next_data\u001b[39m(\u001b[39mself\u001b[39m):\n\u001b[0;32m    677\u001b[0m     index \u001b[39m=\u001b[39m \u001b[39mself\u001b[39m\u001b[39m.\u001b[39m_next_index()  \u001b[39m# may raise StopIteration\u001b[39;00m\n\u001b[1;32m--> 678\u001b[0m     data \u001b[39m=\u001b[39m \u001b[39mself\u001b[39;49m\u001b[39m.\u001b[39;49m_dataset_fetcher\u001b[39m.\u001b[39;49mfetch(index)  \u001b[39m# may raise StopIteration\u001b[39;00m\n\u001b[0;32m    679\u001b[0m     \u001b[39mif\u001b[39;00m \u001b[39mself\u001b[39m\u001b[39m.\u001b[39m_pin_memory:\n\u001b[0;32m    680\u001b[0m         data \u001b[39m=\u001b[39m _utils\u001b[39m.\u001b[39mpin_memory\u001b[39m.\u001b[39mpin_memory(data, \u001b[39mself\u001b[39m\u001b[39m.\u001b[39m_pin_memory_device)\n",
      "File \u001b[1;32md:\\Documents\\Programming\\Bsc Thesis\\Second-order-optimization\\venv\\Lib\\site-packages\\torch\\utils\\data\\_utils\\fetch.py:51\u001b[0m, in \u001b[0;36m_MapDatasetFetcher.fetch\u001b[1;34m(self, possibly_batched_index)\u001b[0m\n\u001b[0;32m     49\u001b[0m         data \u001b[39m=\u001b[39m \u001b[39mself\u001b[39m\u001b[39m.\u001b[39mdataset\u001b[39m.\u001b[39m__getitems__(possibly_batched_index)\n\u001b[0;32m     50\u001b[0m     \u001b[39melse\u001b[39;00m:\n\u001b[1;32m---> 51\u001b[0m         data \u001b[39m=\u001b[39m [\u001b[39mself\u001b[39;49m\u001b[39m.\u001b[39;49mdataset[idx] \u001b[39mfor\u001b[39;49;00m idx \u001b[39min\u001b[39;49;00m possibly_batched_index]\n\u001b[0;32m     52\u001b[0m \u001b[39melse\u001b[39;00m:\n\u001b[0;32m     53\u001b[0m     data \u001b[39m=\u001b[39m \u001b[39mself\u001b[39m\u001b[39m.\u001b[39mdataset[possibly_batched_index]\n",
      "File \u001b[1;32md:\\Documents\\Programming\\Bsc Thesis\\Second-order-optimization\\venv\\Lib\\site-packages\\torch\\utils\\data\\_utils\\fetch.py:51\u001b[0m, in \u001b[0;36m<listcomp>\u001b[1;34m(.0)\u001b[0m\n\u001b[0;32m     49\u001b[0m         data \u001b[39m=\u001b[39m \u001b[39mself\u001b[39m\u001b[39m.\u001b[39mdataset\u001b[39m.\u001b[39m__getitems__(possibly_batched_index)\n\u001b[0;32m     50\u001b[0m     \u001b[39melse\u001b[39;00m:\n\u001b[1;32m---> 51\u001b[0m         data \u001b[39m=\u001b[39m [\u001b[39mself\u001b[39;49m\u001b[39m.\u001b[39;49mdataset[idx] \u001b[39mfor\u001b[39;00m idx \u001b[39min\u001b[39;00m possibly_batched_index]\n\u001b[0;32m     52\u001b[0m \u001b[39melse\u001b[39;00m:\n\u001b[0;32m     53\u001b[0m     data \u001b[39m=\u001b[39m \u001b[39mself\u001b[39m\u001b[39m.\u001b[39mdataset[possibly_batched_index]\n",
      "File \u001b[1;32md:\\Documents\\Programming\\Bsc Thesis\\Second-order-optimization\\venv\\Lib\\site-packages\\torch\\utils\\data\\dataset.py:298\u001b[0m, in \u001b[0;36mSubset.__getitem__\u001b[1;34m(self, idx)\u001b[0m\n\u001b[0;32m    296\u001b[0m \u001b[39mif\u001b[39;00m \u001b[39misinstance\u001b[39m(idx, \u001b[39mlist\u001b[39m):\n\u001b[0;32m    297\u001b[0m     \u001b[39mreturn\u001b[39;00m \u001b[39mself\u001b[39m\u001b[39m.\u001b[39mdataset[[\u001b[39mself\u001b[39m\u001b[39m.\u001b[39mindices[i] \u001b[39mfor\u001b[39;00m i \u001b[39min\u001b[39;00m idx]]\n\u001b[1;32m--> 298\u001b[0m \u001b[39mreturn\u001b[39;00m \u001b[39mself\u001b[39;49m\u001b[39m.\u001b[39;49mdataset[\u001b[39mself\u001b[39;49m\u001b[39m.\u001b[39;49mindices[idx]]\n",
      "File \u001b[1;32md:\\Documents\\Programming\\Bsc Thesis\\Second-order-optimization\\jupyter\\../src\\data_setup.py:23\u001b[0m, in \u001b[0;36mTMNISTDataset.__getitem__\u001b[1;34m(self, idx)\u001b[0m\n\u001b[0;32m     21\u001b[0m \u001b[39mif\u001b[39;00m torch\u001b[39m.\u001b[39mis_tensor(idx):\n\u001b[0;32m     22\u001b[0m     idx \u001b[39m=\u001b[39m idx\u001b[39m.\u001b[39mtolist()\n\u001b[1;32m---> 23\u001b[0m image \u001b[39m=\u001b[39m \u001b[39mself\u001b[39;49m\u001b[39m.\u001b[39;49mdata\u001b[39m.\u001b[39;49mdrop(columns\u001b[39m=\u001b[39;49m[\u001b[39m\"\u001b[39;49m\u001b[39mnames\u001b[39;49m\u001b[39m\"\u001b[39;49m, \u001b[39m\"\u001b[39;49m\u001b[39mlabels\u001b[39;49m\u001b[39m\"\u001b[39;49m])\u001b[39m.\u001b[39miloc[idx]\u001b[39m.\u001b[39mvalues\u001b[39m.\u001b[39mreshape(\u001b[39m28\u001b[39m, \u001b[39m28\u001b[39m)\n\u001b[0;32m     24\u001b[0m label \u001b[39m=\u001b[39m \u001b[39mself\u001b[39m\u001b[39m.\u001b[39mdata[\u001b[39m\"\u001b[39m\u001b[39mlabels\u001b[39m\u001b[39m\"\u001b[39m]\u001b[39m.\u001b[39miloc[idx]\n\u001b[0;32m     25\u001b[0m \u001b[39mif\u001b[39;00m \u001b[39mself\u001b[39m\u001b[39m.\u001b[39mtransform:\n",
      "File \u001b[1;32md:\\Documents\\Programming\\Bsc Thesis\\Second-order-optimization\\venv\\Lib\\site-packages\\pandas\\core\\frame.py:5266\u001b[0m, in \u001b[0;36mDataFrame.drop\u001b[1;34m(self, labels, axis, index, columns, level, inplace, errors)\u001b[0m\n\u001b[0;32m   5118\u001b[0m \u001b[39mdef\u001b[39;00m \u001b[39mdrop\u001b[39m(\n\u001b[0;32m   5119\u001b[0m     \u001b[39mself\u001b[39m,\n\u001b[0;32m   5120\u001b[0m     labels: IndexLabel \u001b[39m=\u001b[39m \u001b[39mNone\u001b[39;00m,\n\u001b[1;32m   (...)\u001b[0m\n\u001b[0;32m   5127\u001b[0m     errors: IgnoreRaise \u001b[39m=\u001b[39m \u001b[39m\"\u001b[39m\u001b[39mraise\u001b[39m\u001b[39m\"\u001b[39m,\n\u001b[0;32m   5128\u001b[0m ) \u001b[39m-\u001b[39m\u001b[39m>\u001b[39m DataFrame \u001b[39m|\u001b[39m \u001b[39mNone\u001b[39;00m:\n\u001b[0;32m   5129\u001b[0m \u001b[39m    \u001b[39m\u001b[39m\"\"\"\u001b[39;00m\n\u001b[0;32m   5130\u001b[0m \u001b[39m    Drop specified labels from rows or columns.\u001b[39;00m\n\u001b[0;32m   5131\u001b[0m \n\u001b[1;32m   (...)\u001b[0m\n\u001b[0;32m   5264\u001b[0m \u001b[39m            weight  1.0     0.8\u001b[39;00m\n\u001b[0;32m   5265\u001b[0m \u001b[39m    \"\"\"\u001b[39;00m\n\u001b[1;32m-> 5266\u001b[0m     \u001b[39mreturn\u001b[39;00m \u001b[39msuper\u001b[39;49m()\u001b[39m.\u001b[39;49mdrop(\n\u001b[0;32m   5267\u001b[0m         labels\u001b[39m=\u001b[39;49mlabels,\n\u001b[0;32m   5268\u001b[0m         axis\u001b[39m=\u001b[39;49maxis,\n\u001b[0;32m   5269\u001b[0m         index\u001b[39m=\u001b[39;49mindex,\n\u001b[0;32m   5270\u001b[0m         columns\u001b[39m=\u001b[39;49mcolumns,\n\u001b[0;32m   5271\u001b[0m         level\u001b[39m=\u001b[39;49mlevel,\n\u001b[0;32m   5272\u001b[0m         inplace\u001b[39m=\u001b[39;49minplace,\n\u001b[0;32m   5273\u001b[0m         errors\u001b[39m=\u001b[39;49merrors,\n\u001b[0;32m   5274\u001b[0m     )\n",
      "File \u001b[1;32md:\\Documents\\Programming\\Bsc Thesis\\Second-order-optimization\\venv\\Lib\\site-packages\\pandas\\core\\generic.py:4549\u001b[0m, in \u001b[0;36mNDFrame.drop\u001b[1;34m(self, labels, axis, index, columns, level, inplace, errors)\u001b[0m\n\u001b[0;32m   4547\u001b[0m \u001b[39mfor\u001b[39;00m axis, labels \u001b[39min\u001b[39;00m axes\u001b[39m.\u001b[39mitems():\n\u001b[0;32m   4548\u001b[0m     \u001b[39mif\u001b[39;00m labels \u001b[39mis\u001b[39;00m \u001b[39mnot\u001b[39;00m \u001b[39mNone\u001b[39;00m:\n\u001b[1;32m-> 4549\u001b[0m         obj \u001b[39m=\u001b[39m obj\u001b[39m.\u001b[39;49m_drop_axis(labels, axis, level\u001b[39m=\u001b[39;49mlevel, errors\u001b[39m=\u001b[39;49merrors)\n\u001b[0;32m   4551\u001b[0m \u001b[39mif\u001b[39;00m inplace:\n\u001b[0;32m   4552\u001b[0m     \u001b[39mself\u001b[39m\u001b[39m.\u001b[39m_update_inplace(obj)\n",
      "File \u001b[1;32md:\\Documents\\Programming\\Bsc Thesis\\Second-order-optimization\\venv\\Lib\\site-packages\\pandas\\core\\generic.py:4630\u001b[0m, in \u001b[0;36mNDFrame._drop_axis\u001b[1;34m(self, labels, axis, level, errors, only_slice)\u001b[0m\n\u001b[0;32m   4627\u001b[0m     new_axis \u001b[39m=\u001b[39m axis\u001b[39m.\u001b[39mtake(indexer)\n\u001b[0;32m   4629\u001b[0m bm_axis \u001b[39m=\u001b[39m \u001b[39mself\u001b[39m\u001b[39m.\u001b[39mndim \u001b[39m-\u001b[39m axis_num \u001b[39m-\u001b[39m \u001b[39m1\u001b[39m\n\u001b[1;32m-> 4630\u001b[0m new_mgr \u001b[39m=\u001b[39m \u001b[39mself\u001b[39;49m\u001b[39m.\u001b[39;49m_mgr\u001b[39m.\u001b[39;49mreindex_indexer(\n\u001b[0;32m   4631\u001b[0m     new_axis,\n\u001b[0;32m   4632\u001b[0m     indexer,\n\u001b[0;32m   4633\u001b[0m     axis\u001b[39m=\u001b[39;49mbm_axis,\n\u001b[0;32m   4634\u001b[0m     allow_dups\u001b[39m=\u001b[39;49m\u001b[39mTrue\u001b[39;49;00m,\n\u001b[0;32m   4635\u001b[0m     copy\u001b[39m=\u001b[39;49m\u001b[39mNone\u001b[39;49;00m,\n\u001b[0;32m   4636\u001b[0m     only_slice\u001b[39m=\u001b[39;49monly_slice,\n\u001b[0;32m   4637\u001b[0m )\n\u001b[0;32m   4638\u001b[0m result \u001b[39m=\u001b[39m \u001b[39mself\u001b[39m\u001b[39m.\u001b[39m_constructor(new_mgr)\n\u001b[0;32m   4639\u001b[0m \u001b[39mif\u001b[39;00m \u001b[39mself\u001b[39m\u001b[39m.\u001b[39mndim \u001b[39m==\u001b[39m \u001b[39m1\u001b[39m:\n",
      "File \u001b[1;32md:\\Documents\\Programming\\Bsc Thesis\\Second-order-optimization\\venv\\Lib\\site-packages\\pandas\\core\\internals\\managers.py:740\u001b[0m, in \u001b[0;36mBaseBlockManager.reindex_indexer\u001b[1;34m(self, new_axis, indexer, axis, fill_value, allow_dups, copy, only_slice, use_na_proxy)\u001b[0m\n\u001b[0;32m    737\u001b[0m     \u001b[39mraise\u001b[39;00m \u001b[39mIndexError\u001b[39;00m(\u001b[39m\"\u001b[39m\u001b[39mRequested axis not found in manager\u001b[39m\u001b[39m\"\u001b[39m)\n\u001b[0;32m    739\u001b[0m \u001b[39mif\u001b[39;00m axis \u001b[39m==\u001b[39m \u001b[39m0\u001b[39m:\n\u001b[1;32m--> 740\u001b[0m     new_blocks \u001b[39m=\u001b[39m \u001b[39mself\u001b[39;49m\u001b[39m.\u001b[39;49m_slice_take_blocks_ax0(\n\u001b[0;32m    741\u001b[0m         indexer,\n\u001b[0;32m    742\u001b[0m         fill_value\u001b[39m=\u001b[39;49mfill_value,\n\u001b[0;32m    743\u001b[0m         only_slice\u001b[39m=\u001b[39;49monly_slice,\n\u001b[0;32m    744\u001b[0m         use_na_proxy\u001b[39m=\u001b[39;49muse_na_proxy,\n\u001b[0;32m    745\u001b[0m     )\n\u001b[0;32m    746\u001b[0m \u001b[39melse\u001b[39;00m:\n\u001b[0;32m    747\u001b[0m     new_blocks \u001b[39m=\u001b[39m [\n\u001b[0;32m    748\u001b[0m         blk\u001b[39m.\u001b[39mtake_nd(\n\u001b[0;32m    749\u001b[0m             indexer,\n\u001b[1;32m   (...)\u001b[0m\n\u001b[0;32m    755\u001b[0m         \u001b[39mfor\u001b[39;00m blk \u001b[39min\u001b[39;00m \u001b[39mself\u001b[39m\u001b[39m.\u001b[39mblocks\n\u001b[0;32m    756\u001b[0m     ]\n",
      "File \u001b[1;32md:\\Documents\\Programming\\Bsc Thesis\\Second-order-optimization\\venv\\Lib\\site-packages\\pandas\\core\\internals\\managers.py:898\u001b[0m, in \u001b[0;36mBaseBlockManager._slice_take_blocks_ax0\u001b[1;34m(self, slice_or_indexer, fill_value, only_slice, use_na_proxy)\u001b[0m\n\u001b[0;32m    896\u001b[0m                     blocks\u001b[39m.\u001b[39mappend(nb)\n\u001b[0;32m    897\u001b[0m             \u001b[39melse\u001b[39;00m:\n\u001b[1;32m--> 898\u001b[0m                 nb \u001b[39m=\u001b[39m blk\u001b[39m.\u001b[39;49mtake_nd(taker, axis\u001b[39m=\u001b[39;49m\u001b[39m0\u001b[39;49m, new_mgr_locs\u001b[39m=\u001b[39;49mmgr_locs)\n\u001b[0;32m    899\u001b[0m                 blocks\u001b[39m.\u001b[39mappend(nb)\n\u001b[0;32m    901\u001b[0m \u001b[39mreturn\u001b[39;00m blocks\n",
      "File \u001b[1;32md:\\Documents\\Programming\\Bsc Thesis\\Second-order-optimization\\venv\\Lib\\site-packages\\pandas\\core\\internals\\blocks.py:960\u001b[0m, in \u001b[0;36mBlock.take_nd\u001b[1;34m(self, indexer, axis, new_mgr_locs, fill_value)\u001b[0m\n\u001b[0;32m    957\u001b[0m \u001b[39mif\u001b[39;00m new_mgr_locs \u001b[39mis\u001b[39;00m \u001b[39mNone\u001b[39;00m:\n\u001b[0;32m    958\u001b[0m     new_mgr_locs \u001b[39m=\u001b[39m \u001b[39mself\u001b[39m\u001b[39m.\u001b[39m_mgr_locs\n\u001b[1;32m--> 960\u001b[0m \u001b[39mif\u001b[39;00m \u001b[39mnot\u001b[39;00m is_dtype_equal(new_values\u001b[39m.\u001b[39;49mdtype, \u001b[39mself\u001b[39;49m\u001b[39m.\u001b[39;49mdtype):\n\u001b[0;32m    961\u001b[0m     \u001b[39mreturn\u001b[39;00m \u001b[39mself\u001b[39m\u001b[39m.\u001b[39mmake_block(new_values, new_mgr_locs)\n\u001b[0;32m    962\u001b[0m \u001b[39melse\u001b[39;00m:\n",
      "File \u001b[1;32md:\\Documents\\Programming\\Bsc Thesis\\Second-order-optimization\\venv\\Lib\\site-packages\\pandas\\core\\dtypes\\common.py:551\u001b[0m, in \u001b[0;36mis_dtype_equal\u001b[1;34m(source, target)\u001b[0m\n\u001b[0;32m    546\u001b[0m             \u001b[39mreturn\u001b[39;00m \u001b[39mFalse\u001b[39;00m\n\u001b[0;32m    548\u001b[0m     \u001b[39mreturn\u001b[39;00m _is_dtype(arr_or_dtype, condition)\n\u001b[1;32m--> 551\u001b[0m \u001b[39mdef\u001b[39;00m \u001b[39mis_dtype_equal\u001b[39m(source, target) \u001b[39m-\u001b[39m\u001b[39m>\u001b[39m \u001b[39mbool\u001b[39m:\n\u001b[0;32m    552\u001b[0m \u001b[39m    \u001b[39m\u001b[39m\"\"\"\u001b[39;00m\n\u001b[0;32m    553\u001b[0m \u001b[39m    Check if two dtypes are equal.\u001b[39;00m\n\u001b[0;32m    554\u001b[0m \n\u001b[1;32m   (...)\u001b[0m\n\u001b[0;32m    576\u001b[0m \u001b[39m    False\u001b[39;00m\n\u001b[0;32m    577\u001b[0m \u001b[39m    \"\"\"\u001b[39;00m\n\u001b[0;32m    578\u001b[0m     \u001b[39mif\u001b[39;00m \u001b[39misinstance\u001b[39m(target, \u001b[39mstr\u001b[39m):\n",
      "\u001b[1;31mKeyboardInterrupt\u001b[0m: "
     ]
    }
   ],
   "source": [
    "import sys\n",
    "sys.path.append('../src/')\n",
    "\n",
    "import engine\n",
    "import experiments_maker\n",
    "\n",
    "modes = [\"disabled\", \"online\"]\n",
    "device = \"cuda\" if torch.cuda.is_available() else \"cpu\"\n",
    "\n",
    "epochs = 50\n",
    "lr = 1e-3\n",
    "classes = 10\n",
    "loss_fn = nn.CrossEntropyLoss()\n",
    "accuracy_fn = torchmetrics.Accuracy(task='multiclass', num_classes=classes, average='macro')\n",
    "\n",
    "batch_size = 16\n",
    "\n",
    "# datasets_names = ['mnist', 'tmnist','fashion_mnist', 'cifar10']\n",
    "# optimizers_names = ['SGD', 'HessianFree', 'PB_BFGS', 'K_BFGS', 'K_LBFGS']\n",
    "# models_names = ['SmallCNN', 'DepthCNN', 'WidthCNN', 'DepthWidthCNN']\n",
    "\n",
    "# experimental run v0.1\n",
    "datasets_names = ['tmnist']\n",
    "optimizers_names = ['SGD']#, 'HessianFree']\n",
    "models_names = ['SmallCNN']\n",
    "\n",
    "for dataset_name in datasets_names:\n",
    "    for optimizer_name in optimizers_names:\n",
    "        for model_name in models_names:\n",
    "            config = dict(\n",
    "                epochs=epochs,\n",
    "                classes=classes,\n",
    "                learning_rate=lr,\n",
    "                batch_size=batch_size,\n",
    "                dataset=dataset_name, # iterable\n",
    "                optimizer=optimizer_name, # iterable\n",
    "                model=model_name, # iterable\n",
    "                architecture=\"CNN\",\n",
    "                wandb_log=\"all\",\n",
    "                wandb_log_freq=1,\n",
    "            )\n",
    "\n",
    "            with wandb.init(project=\"baselines_cnn\", config=config, mode=modes[0]):\n",
    "                config = wandb.config\n",
    "                # make the model, data and optimization\n",
    "                model, train_dataloader, test_dataloader, optimizer = experiments_maker.make(config, device)\n",
    "                engine.train(model, train_dataloader, test_dataloader, loss_fn, optimizer, accuracy_fn, device, config)\n",
    "\n",
    "            wandb.finish()"
   ]
  }
 ],
 "metadata": {
  "kernelspec": {
   "display_name": "Python 3",
   "language": "python",
   "name": "python3"
  },
  "language_info": {
   "codemirror_mode": {
    "name": "ipython",
    "version": 3
   },
   "file_extension": ".py",
   "mimetype": "text/x-python",
   "name": "python",
   "nbconvert_exporter": "python",
   "pygments_lexer": "ipython3",
   "version": "3.11.3"
  }
 },
 "nbformat": 4,
 "nbformat_minor": 0
}
