{
 "cells": [
  {
   "cell_type": "code",
   "execution_count": 1,
   "metadata": {
    "collapsed": true,
    "pycharm": {
     "name": "#%%\n"
    }
   },
   "outputs": [],
   "source": [
    "%load_ext autoreload\n",
    "%autoreload 2\n",
    "import torch\n",
    "from torch import nn\n",
    "import torchmetrics\n",
    "import numpy as np"
   ]
  },
  {
   "cell_type": "code",
   "execution_count": 2,
   "metadata": {},
   "outputs": [
    {
     "name": "stderr",
     "output_type": "stream",
     "text": [
      "wandb: Appending key for api.wandb.ai to your netrc file: C:\\Users\\nikol/.netrc\n"
     ]
    }
   ],
   "source": [
    "import wandb\n",
    "import os\n",
    "from dotenv import load_dotenv\n",
    "\n",
    "load_dotenv()\n",
    "!wandb login {os.getenv(\"WANDB_API_KEY\")}"
   ]
  },
  {
   "cell_type": "code",
   "execution_count": 2,
   "metadata": {
    "collapsed": false,
    "pycharm": {
     "name": "#%%\n"
    }
   },
   "outputs": [],
   "source": [
    "np.random.seed(42)\n",
    "torch.manual_seed(42)\n",
    "torch.cuda.manual_seed(42)"
   ]
  },
  {
   "cell_type": "code",
   "execution_count": null,
   "metadata": {
    "collapsed": false,
    "pycharm": {
     "is_executing": true,
     "name": "#%%\n"
    }
   },
   "outputs": [
    {
     "data": {
      "text/html": [
       "Tracking run with wandb version 0.14.2"
      ],
      "text/plain": [
       "<IPython.core.display.HTML object>"
      ]
     },
     "metadata": {},
     "output_type": "display_data"
    },
    {
     "data": {
      "text/html": [
       "Run data is saved locally in <code>D:\\Documents\\Programming\\Bsc Thesis\\Second-order optimization\\jupyter\\wandb\\run-20230418_150109-thtsdqkb</code>"
      ],
      "text/plain": [
       "<IPython.core.display.HTML object>"
      ]
     },
     "metadata": {},
     "output_type": "display_data"
    },
    {
     "data": {
      "text/html": [
       "Syncing run <strong><a href='https://wandb.ai/nikolai-gini/baselines_cnn/runs/thtsdqkb' target=\"_blank\">spring-vortex-24</a></strong> to <a href='https://wandb.ai/nikolai-gini/baselines_cnn' target=\"_blank\">Weights & Biases</a> (<a href='https://wandb.me/run' target=\"_blank\">docs</a>)<br/>"
      ],
      "text/plain": [
       "<IPython.core.display.HTML object>"
      ]
     },
     "metadata": {},
     "output_type": "display_data"
    },
    {
     "data": {
      "text/html": [
       " View project at <a href='https://wandb.ai/nikolai-gini/baselines_cnn' target=\"_blank\">https://wandb.ai/nikolai-gini/baselines_cnn</a>"
      ],
      "text/plain": [
       "<IPython.core.display.HTML object>"
      ]
     },
     "metadata": {},
     "output_type": "display_data"
    },
    {
     "data": {
      "text/html": [
       " View run at <a href='https://wandb.ai/nikolai-gini/baselines_cnn/runs/thtsdqkb' target=\"_blank\">https://wandb.ai/nikolai-gini/baselines_cnn/runs/thtsdqkb</a>"
      ],
      "text/plain": [
       "<IPython.core.display.HTML object>"
      ]
     },
     "metadata": {},
     "output_type": "display_data"
    },
    {
     "data": {
      "application/vnd.jupyter.widget-view+json": {
       "model_id": "1dcb3c1ab2804b5fa688ed02b6bf96bd",
       "version_major": 2,
       "version_minor": 0
      },
      "text/plain": [
       "  0%|          | 0/50 [00:00<?, ?it/s]"
      ]
     },
     "metadata": {},
     "output_type": "display_data"
    }
   ],
   "source": [
    "import engine\n",
    "import experiments_maker\n",
    "\n",
    "\n",
    "!wandb login os.environ['WANDB_API_KEY']\n",
    "\n",
    "modes = [\"disabled\", \"online\"]\n",
    "device = \"cuda\" if torch.cuda.is_available() else \"cpu\"\n",
    "\n",
    "epochs = 50\n",
    "lr = 1e-3\n",
    "classes = 10\n",
    "loss_fn = nn.CrossEntropyLoss()\n",
    "accuracy_fn = torchmetrics.Accuracy(task='multiclass', num_classes=classes, average='macro')\n",
    "\n",
    "batch_size=16\n",
    "\n",
    "# datasets_names = ['mnist', 'tmnist','fashion_mnist', 'cifar10']\n",
    "# optimizers_names = ['SGD', 'HessianFree', 'PB_BFGS', 'K_BFGS', 'K_LBFGS']\n",
    "# models_names = ['SmallCNN', 'DepthCNN', 'WidthCNN', 'DepthWidthCNN']\n",
    "\n",
    "# experimental run v0.1\n",
    "datasets_names = ['tmnist']\n",
    "optimizers_names = ['SGD']#, 'HessianFree']\n",
    "models_names = ['SmallCNN']\n",
    "\n",
    "for dataset_name in datasets_names:\n",
    "    for optimizer_name in optimizers_names:\n",
    "        for model_name in models_names:\n",
    "            config = dict(\n",
    "                epochs=epochs,\n",
    "                classes=classes,\n",
    "                learning_rate=lr,\n",
    "                batch_size=batch_size,\n",
    "                dataset=dataset_name, # iterable\n",
    "                optimizer=optimizer_name, # iterable\n",
    "                model=model_name, # iterable\n",
    "                architecture=\"CNN\"\n",
    "            )\n",
    "\n",
    "            with wandb.init(project=\"baselines_cnn\", config=config, mode=modes[1]):\n",
    "                config = wandb.config\n",
    "                # make the model, data and optimization\n",
    "                model, train_dataloader, test_dataloader, optimizer = experiments_maker.make(config, device)\n",
    "                engine.train(config['epochs'], model, train_dataloader, test_dataloader, loss_fn, optimizer, accuracy_fn, device)\n",
    "\n",
    "            wandb.finish()"
   ]
  }
 ],
 "metadata": {
  "kernelspec": {
   "display_name": "Python 3",
   "language": "python",
   "name": "python3"
  },
  "language_info": {
   "codemirror_mode": {
    "name": "ipython",
    "version": 3
   },
   "file_extension": ".py",
   "mimetype": "text/x-python",
   "name": "python",
   "nbconvert_exporter": "python",
   "pygments_lexer": "ipython3",
   "version": "3.11.3"
  }
 },
 "nbformat": 4,
 "nbformat_minor": 0
}
